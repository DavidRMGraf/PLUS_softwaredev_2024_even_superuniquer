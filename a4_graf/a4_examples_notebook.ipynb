{
 "cells": [
  {
   "metadata": {},
   "cell_type": "markdown",
   "source": [
    "## Examples\n",
    "\n",
    "### get_stations_from_bounds"
   ],
   "id": "b121d21d5a5e22a6"
  },
  {
   "metadata": {
    "ExecuteTime": {
     "end_time": "2024-06-20T15:00:22.759202Z",
     "start_time": "2024-06-20T15:00:20.159834Z"
    }
   },
   "cell_type": "code",
   "source": "from a4_functions import *",
   "id": "ff0e78f77070b9eb",
   "outputs": [],
   "execution_count": 1
  },
  {
   "metadata": {
    "ExecuteTime": {
     "end_time": "2024-06-20T15:00:28.486081Z",
     "start_time": "2024-06-20T15:00:27.577060Z"
    }
   },
   "cell_type": "code",
   "source": [
    "bbox = [(47.219472,11.217041), (48.377410,13.480225)]\n",
    "n_stations = 30\n",
    "\n",
    "# with bounding box [(lat1, lon1), (lat2, lon2)]:\n",
    "df = get_stations_from_bounds(bbox, n_stations, verbose = True)\n",
    "\n",
    "# add bbox center to exported data:\n",
    "df, center = get_stations_from_bounds(bbox, n_stations, verbose = True, export_bbox_center= True)\n",
    "\n",
    "# with Points:\n",
    "from shapely import Point\n",
    "\n",
    "p1, p2 = Point(bbox[0]), Point(bbox[1])\n",
    "get_stations_from_bounds([p1, p2])\n",
    "\n",
    "# with Line data:\n",
    "from shapely import LineString\n",
    "\n",
    "ls = LineString([p1, p2])\n",
    "get_stations_from_bounds(ls)\n",
    "\n",
    "# with polygon data:\n",
    "from shapely import box\n",
    "\n",
    "poly = (box(p1.x, p1.y, p2.x, p2.y))\n",
    "get_stations_from_bounds(poly)"
   ],
   "id": "463079b2dcaa416a",
   "outputs": [
    {
     "name": "stdout",
     "output_type": "stream",
     "text": [
      "Length of bounding box diagonal:   280.25 km\n",
      "Number of stations: 95, returning top 30.\n",
      "Length of bounding box diagonal:   280.25 km\n",
      "Number of stations: 95, returning top 30.\n",
      "Length of bounding box diagonal:   280.25 km\n",
      "Number of stations: 95, returning top 5.\n",
      "Length of bounding box diagonal:   280.25 km\n",
      "Number of stations: 95, returning top 5.\n",
      "Length of bounding box diagonal:   280.25 km\n",
      "Number of stations: 95, returning top 5.\n"
     ]
    },
    {
     "data": {
      "text/plain": [
       "                     name country region    wmo  icao  latitude  longitude  \\\n",
       "id                                                                           \n",
       "D5941       Reit im Winkl      DE     BY   <NA>  <NA>   47.6754    12.4698   \n",
       "10982            Chieming      DE     BY  10982  <NA>   47.8833    12.5333   \n",
       "D7105      Siegsdorf-Höll      DE     BY   <NA>  <NA>   47.8350    12.6548   \n",
       "D3679  Kiefersfelden-Gach      DE     BY   <NA>  <NA>   47.6187    12.1666   \n",
       "D0154    Amerang-Pfaffing      DE     BY   <NA>  <NA>   48.0197    12.2924   \n",
       "\n",
       "       elevation       timezone hourly_start hourly_end daily_start  \\\n",
       "id                                                                    \n",
       "D5941      685.0  Europe/Berlin   1951-01-01 2024-06-16  1945-01-01   \n",
       "10982      549.0  Europe/Berlin   1979-01-01 2024-06-18  1977-08-09   \n",
       "D7105      721.0  Europe/Berlin   2005-06-01 2024-06-16  2005-06-01   \n",
       "D3679      518.0  Europe/Berlin   1951-01-01 2024-06-16  1947-01-01   \n",
       "D0154      515.0  Europe/Berlin   1994-07-01 2024-06-16  1994-01-01   \n",
       "\n",
       "       daily_end monthly_start monthly_end      distance  \n",
       "id                                                        \n",
       "D5941 2024-06-16    1945-01-01  2022-01-01  16410.033597  \n",
       "10982 2024-06-16    1988-01-01  2022-01-01  16702.903323  \n",
       "D7105 2024-06-16    2005-01-01  2022-01-01  23219.451359  \n",
       "D3679 2024-06-16    1947-01-01  2022-01-01  24186.020769  \n",
       "D0154 2024-06-16    1994-01-01  2022-01-01  24957.338091  "
      ],
      "text/html": [
       "<div>\n",
       "<style scoped>\n",
       "    .dataframe tbody tr th:only-of-type {\n",
       "        vertical-align: middle;\n",
       "    }\n",
       "\n",
       "    .dataframe tbody tr th {\n",
       "        vertical-align: top;\n",
       "    }\n",
       "\n",
       "    .dataframe thead th {\n",
       "        text-align: right;\n",
       "    }\n",
       "</style>\n",
       "<table border=\"1\" class=\"dataframe\">\n",
       "  <thead>\n",
       "    <tr style=\"text-align: right;\">\n",
       "      <th></th>\n",
       "      <th>name</th>\n",
       "      <th>country</th>\n",
       "      <th>region</th>\n",
       "      <th>wmo</th>\n",
       "      <th>icao</th>\n",
       "      <th>latitude</th>\n",
       "      <th>longitude</th>\n",
       "      <th>elevation</th>\n",
       "      <th>timezone</th>\n",
       "      <th>hourly_start</th>\n",
       "      <th>hourly_end</th>\n",
       "      <th>daily_start</th>\n",
       "      <th>daily_end</th>\n",
       "      <th>monthly_start</th>\n",
       "      <th>monthly_end</th>\n",
       "      <th>distance</th>\n",
       "    </tr>\n",
       "    <tr>\n",
       "      <th>id</th>\n",
       "      <th></th>\n",
       "      <th></th>\n",
       "      <th></th>\n",
       "      <th></th>\n",
       "      <th></th>\n",
       "      <th></th>\n",
       "      <th></th>\n",
       "      <th></th>\n",
       "      <th></th>\n",
       "      <th></th>\n",
       "      <th></th>\n",
       "      <th></th>\n",
       "      <th></th>\n",
       "      <th></th>\n",
       "      <th></th>\n",
       "      <th></th>\n",
       "    </tr>\n",
       "  </thead>\n",
       "  <tbody>\n",
       "    <tr>\n",
       "      <th>D5941</th>\n",
       "      <td>Reit im Winkl</td>\n",
       "      <td>DE</td>\n",
       "      <td>BY</td>\n",
       "      <td>&lt;NA&gt;</td>\n",
       "      <td>&lt;NA&gt;</td>\n",
       "      <td>47.6754</td>\n",
       "      <td>12.4698</td>\n",
       "      <td>685.0</td>\n",
       "      <td>Europe/Berlin</td>\n",
       "      <td>1951-01-01</td>\n",
       "      <td>2024-06-16</td>\n",
       "      <td>1945-01-01</td>\n",
       "      <td>2024-06-16</td>\n",
       "      <td>1945-01-01</td>\n",
       "      <td>2022-01-01</td>\n",
       "      <td>16410.033597</td>\n",
       "    </tr>\n",
       "    <tr>\n",
       "      <th>10982</th>\n",
       "      <td>Chieming</td>\n",
       "      <td>DE</td>\n",
       "      <td>BY</td>\n",
       "      <td>10982</td>\n",
       "      <td>&lt;NA&gt;</td>\n",
       "      <td>47.8833</td>\n",
       "      <td>12.5333</td>\n",
       "      <td>549.0</td>\n",
       "      <td>Europe/Berlin</td>\n",
       "      <td>1979-01-01</td>\n",
       "      <td>2024-06-18</td>\n",
       "      <td>1977-08-09</td>\n",
       "      <td>2024-06-16</td>\n",
       "      <td>1988-01-01</td>\n",
       "      <td>2022-01-01</td>\n",
       "      <td>16702.903323</td>\n",
       "    </tr>\n",
       "    <tr>\n",
       "      <th>D7105</th>\n",
       "      <td>Siegsdorf-Höll</td>\n",
       "      <td>DE</td>\n",
       "      <td>BY</td>\n",
       "      <td>&lt;NA&gt;</td>\n",
       "      <td>&lt;NA&gt;</td>\n",
       "      <td>47.8350</td>\n",
       "      <td>12.6548</td>\n",
       "      <td>721.0</td>\n",
       "      <td>Europe/Berlin</td>\n",
       "      <td>2005-06-01</td>\n",
       "      <td>2024-06-16</td>\n",
       "      <td>2005-06-01</td>\n",
       "      <td>2024-06-16</td>\n",
       "      <td>2005-01-01</td>\n",
       "      <td>2022-01-01</td>\n",
       "      <td>23219.451359</td>\n",
       "    </tr>\n",
       "    <tr>\n",
       "      <th>D3679</th>\n",
       "      <td>Kiefersfelden-Gach</td>\n",
       "      <td>DE</td>\n",
       "      <td>BY</td>\n",
       "      <td>&lt;NA&gt;</td>\n",
       "      <td>&lt;NA&gt;</td>\n",
       "      <td>47.6187</td>\n",
       "      <td>12.1666</td>\n",
       "      <td>518.0</td>\n",
       "      <td>Europe/Berlin</td>\n",
       "      <td>1951-01-01</td>\n",
       "      <td>2024-06-16</td>\n",
       "      <td>1947-01-01</td>\n",
       "      <td>2024-06-16</td>\n",
       "      <td>1947-01-01</td>\n",
       "      <td>2022-01-01</td>\n",
       "      <td>24186.020769</td>\n",
       "    </tr>\n",
       "    <tr>\n",
       "      <th>D0154</th>\n",
       "      <td>Amerang-Pfaffing</td>\n",
       "      <td>DE</td>\n",
       "      <td>BY</td>\n",
       "      <td>&lt;NA&gt;</td>\n",
       "      <td>&lt;NA&gt;</td>\n",
       "      <td>48.0197</td>\n",
       "      <td>12.2924</td>\n",
       "      <td>515.0</td>\n",
       "      <td>Europe/Berlin</td>\n",
       "      <td>1994-07-01</td>\n",
       "      <td>2024-06-16</td>\n",
       "      <td>1994-01-01</td>\n",
       "      <td>2024-06-16</td>\n",
       "      <td>1994-01-01</td>\n",
       "      <td>2022-01-01</td>\n",
       "      <td>24957.338091</td>\n",
       "    </tr>\n",
       "  </tbody>\n",
       "</table>\n",
       "</div>"
      ]
     },
     "execution_count": 2,
     "metadata": {},
     "output_type": "execute_result"
    }
   ],
   "execution_count": 2
  },
  {
   "metadata": {},
   "cell_type": "markdown",
   "source": "### get_longest_station_record",
   "id": "476cdf1ffc72b83b"
  },
  {
   "metadata": {
    "ExecuteTime": {
     "end_time": "2024-06-20T15:00:38.302065Z",
     "start_time": "2024-06-20T15:00:38.229587Z"
    }
   },
   "cell_type": "code",
   "source": "get_longest_station_record(bbox, n_stations, verbose=True)",
   "id": "fbc61b2af1ad62c9",
   "outputs": [
    {
     "name": "stdout",
     "output_type": "stream",
     "text": [
      "Length of bounding box diagonal:   280.25 km\n",
      "Number of stations: 95, returning top 30.\n"
     ]
    },
    {
     "data": {
      "text/plain": [
       "name                Hohenpeissenberg\n",
       "country                           DE\n",
       "region                            BY\n",
       "wmo                            10962\n",
       "icao                            <NA>\n",
       "latitude                        47.8\n",
       "longitude                    11.0167\n",
       "elevation                      977.0\n",
       "timezone               Europe/Berlin\n",
       "hourly_start     1939-01-01 00:00:00\n",
       "hourly_end       2024-06-18 00:00:00\n",
       "daily_start      1781-01-01 00:00:00\n",
       "daily_end        2024-06-16 00:00:00\n",
       "monthly_start    1781-01-01 00:00:00\n",
       "monthly_end      2022-01-01 00:00:00\n",
       "distance                99485.049617\n",
       "Name: 10962, dtype: object"
      ]
     },
     "execution_count": 3,
     "metadata": {},
     "output_type": "execute_result"
    }
   ],
   "execution_count": 3
  },
  {
   "metadata": {},
   "cell_type": "markdown",
   "source": "### find_consensus_period",
   "id": "b75b6b0cf846b90f"
  },
  {
   "metadata": {
    "ExecuteTime": {
     "end_time": "2024-06-20T15:00:39.800474Z",
     "start_time": "2024-06-20T15:00:39.740535Z"
    }
   },
   "cell_type": "code",
   "source": "start, end = find_consensus_period(bbox, n_stations, verbose=True)",
   "id": "a89d0682fe3b6b42",
   "outputs": [
    {
     "name": "stdout",
     "output_type": "stream",
     "text": [
      "Length of bounding box diagonal:   280.25 km\n",
      "Number of stations: 95, returning top 30.\n",
      "Consensus starting date: 2008-04-01, consensus ending date: 2024-06-16\n"
     ]
    }
   ],
   "execution_count": 4
  },
  {
   "metadata": {},
   "cell_type": "markdown",
   "source": "###  find_most_representative_station",
   "id": "ace1313a6ac61e3"
  },
  {
   "metadata": {
    "ExecuteTime": {
     "end_time": "2024-06-20T15:00:43.631784Z",
     "start_time": "2024-06-20T15:00:40.904245Z"
    }
   },
   "cell_type": "code",
   "source": [
    "data_to_compare = \"prcp\"\n",
    "find_most_representative_station(bbox, n_stations, data_to_compare, verbose=True)"
   ],
   "id": "6dac6d2dd6cc7aed",
   "outputs": [
    {
     "name": "stdout",
     "output_type": "stream",
     "text": [
      "Length of bounding box diagonal:   280.25 km\n",
      "Number of stations: 95, returning top 30.\n",
      "Consensus starting date: 2008-04-01, consensus ending date: 2024-06-16\n",
      "Most representative station, based on prcp: Trostberg (ID: D5111)\n"
     ]
    },
    {
     "data": {
      "text/plain": [
       "name                       Trostberg\n",
       "country                           DE\n",
       "region                            BY\n",
       "wmo                             <NA>\n",
       "icao                            <NA>\n",
       "latitude                     48.0311\n",
       "longitude                    12.5396\n",
       "elevation                      559.0\n",
       "timezone               Europe/Berlin\n",
       "hourly_start     2006-04-01 00:00:00\n",
       "hourly_end       2024-06-16 00:00:00\n",
       "daily_start      1945-01-01 00:00:00\n",
       "daily_end        2024-06-16 00:00:00\n",
       "monthly_start    1945-01-01 00:00:00\n",
       "monthly_end      2022-01-01 00:00:00\n",
       "distance                29526.861855\n",
       "Name: D5111, dtype: object"
      ]
     },
     "execution_count": 5,
     "metadata": {},
     "output_type": "execute_result"
    }
   ],
   "execution_count": 5
  }
 ],
 "metadata": {
  "kernelspec": {
   "display_name": "Python 3",
   "language": "python",
   "name": "python3"
  },
  "language_info": {
   "codemirror_mode": {
    "name": "ipython",
    "version": 2
   },
   "file_extension": ".py",
   "mimetype": "text/x-python",
   "name": "python",
   "nbconvert_exporter": "python",
   "pygments_lexer": "ipython2",
   "version": "2.7.6"
  }
 },
 "nbformat": 4,
 "nbformat_minor": 5
}
